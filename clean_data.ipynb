{
 "cells": [
  {
   "cell_type": "code",
   "execution_count": 1,
   "id": "00ec08b7",
   "metadata": {},
   "outputs": [],
   "source": [
    "import pandas as pd\n",
    "import numpy as np\n",
    "import pickle"
   ]
  },
  {
   "cell_type": "markdown",
   "id": "57e0e3bd",
   "metadata": {},
   "source": [
    "## Clean the web scraped data."
   ]
  },
  {
   "cell_type": "code",
   "execution_count": 2,
   "id": "7edcdb07",
   "metadata": {},
   "outputs": [],
   "source": [
    "with open('./data/web_scraped_dataframe.pickle','rb') as read_file:\n",
    "    df = pickle.load(read_file)"
   ]
  },
  {
   "cell_type": "code",
   "execution_count": 3,
   "id": "5c4538a1",
   "metadata": {},
   "outputs": [
    {
     "name": "stdout",
     "output_type": "stream",
     "text": [
      "<class 'pandas.core.frame.DataFrame'>\n",
      "RangeIndex: 2294 entries, 0 to 2293\n",
      "Data columns (total 17 columns):\n",
      " #   Column               Non-Null Count  Dtype \n",
      "---  ------               --------------  ----- \n",
      " 0   No.                  2294 non-null   object\n",
      " 1   Player               2228 non-null   object\n",
      " 2   Age                  2294 non-null   object\n",
      " 3   Pos                  2294 non-null   object\n",
      " 4   G                    2294 non-null   object\n",
      " 5   GS                   2294 non-null   object\n",
      " 6   Wt                   2294 non-null   object\n",
      " 7   Ht                   2294 non-null   object\n",
      " 8   College/Univ         2294 non-null   object\n",
      " 9   BirthDate            2294 non-null   object\n",
      " 10  Yrs                  2294 non-null   object\n",
      " 11  AV                   2294 non-null   object\n",
      " 12  Drafted (tm/rnd/yr)  2294 non-null   object\n",
      " 13  Salary               2294 non-null   object\n",
      " 14  Team                 2294 non-null   object\n",
      " 15  Record               2294 non-null   object\n",
      " 16  Player               66 non-null     object\n",
      "dtypes: object(17)\n",
      "memory usage: 304.8+ KB\n"
     ]
    }
   ],
   "source": [
    "df.info()"
   ]
  },
  {
   "cell_type": "code",
   "execution_count": 4,
   "id": "807b1f8a",
   "metadata": {
    "scrolled": true
   },
   "outputs": [
    {
     "data": {
      "text/html": [
       "<div>\n",
       "<style scoped>\n",
       "    .dataframe tbody tr th:only-of-type {\n",
       "        vertical-align: middle;\n",
       "    }\n",
       "\n",
       "    .dataframe tbody tr th {\n",
       "        vertical-align: top;\n",
       "    }\n",
       "\n",
       "    .dataframe thead th {\n",
       "        text-align: right;\n",
       "    }\n",
       "</style>\n",
       "<table border=\"1\" class=\"dataframe\">\n",
       "  <thead>\n",
       "    <tr style=\"text-align: right;\">\n",
       "      <th></th>\n",
       "      <th>No.</th>\n",
       "      <th>Player</th>\n",
       "      <th>Age</th>\n",
       "      <th>Pos</th>\n",
       "      <th>G</th>\n",
       "      <th>GS</th>\n",
       "      <th>Wt</th>\n",
       "      <th>Ht</th>\n",
       "      <th>College/Univ</th>\n",
       "      <th>BirthDate</th>\n",
       "      <th>Yrs</th>\n",
       "      <th>AV</th>\n",
       "      <th>Drafted (tm/rnd/yr)</th>\n",
       "      <th>Salary</th>\n",
       "      <th>Team</th>\n",
       "      <th>Record</th>\n",
       "      <th>Player</th>\n",
       "    </tr>\n",
       "  </thead>\n",
       "  <tbody>\n",
       "    <tr>\n",
       "      <th>0</th>\n",
       "      <td>97</td>\n",
       "      <td>Mario Addison</td>\n",
       "      <td>33</td>\n",
       "      <td>DE</td>\n",
       "      <td>15</td>\n",
       "      <td>7</td>\n",
       "      <td>260</td>\n",
       "      <td>6-3</td>\n",
       "      <td>Troy</td>\n",
       "      <td>9/6/1987</td>\n",
       "      <td>9</td>\n",
       "      <td>4</td>\n",
       "      <td></td>\n",
       "      <td>$5,250,000</td>\n",
       "      <td>buf</td>\n",
       "      <td>13-3-0</td>\n",
       "      <td>NaN</td>\n",
       "    </tr>\n",
       "    <tr>\n",
       "      <th>1</th>\n",
       "      <td>17</td>\n",
       "      <td>Josh Allen</td>\n",
       "      <td>24</td>\n",
       "      <td>QB</td>\n",
       "      <td>16</td>\n",
       "      <td>16</td>\n",
       "      <td>237</td>\n",
       "      <td>6-5</td>\n",
       "      <td>Wyoming</td>\n",
       "      <td>5/21/1996</td>\n",
       "      <td>2</td>\n",
       "      <td>18</td>\n",
       "      <td>Buffalo Bills / 1st / 7th pick / 2018</td>\n",
       "      <td>$750,000</td>\n",
       "      <td>buf</td>\n",
       "      <td>13-3-0</td>\n",
       "      <td>NaN</td>\n",
       "    </tr>\n",
       "    <tr>\n",
       "      <th>2</th>\n",
       "      <td>5</td>\n",
       "      <td>Matt Barkley</td>\n",
       "      <td>30</td>\n",
       "      <td>QB</td>\n",
       "      <td>5</td>\n",
       "      <td>0</td>\n",
       "      <td>234</td>\n",
       "      <td>6-2</td>\n",
       "      <td>USC</td>\n",
       "      <td>9/8/1990</td>\n",
       "      <td>7</td>\n",
       "      <td>1</td>\n",
       "      <td>Philadelphia Eagles / 4th / 98th pick / 2013</td>\n",
       "      <td>$1,500,000</td>\n",
       "      <td>buf</td>\n",
       "      <td>13-3-0</td>\n",
       "      <td>NaN</td>\n",
       "    </tr>\n",
       "    <tr>\n",
       "      <th>3</th>\n",
       "      <td>2</td>\n",
       "      <td>Tyler Bass</td>\n",
       "      <td>23</td>\n",
       "      <td>K</td>\n",
       "      <td>16</td>\n",
       "      <td>0</td>\n",
       "      <td>183</td>\n",
       "      <td>5-10</td>\n",
       "      <td>Georgia Southern</td>\n",
       "      <td>2/14/1997</td>\n",
       "      <td>Rook</td>\n",
       "      <td>3</td>\n",
       "      <td>Buffalo Bills / 6th / 188th pick / 2020</td>\n",
       "      <td>$610,000</td>\n",
       "      <td>buf</td>\n",
       "      <td>13-3-0</td>\n",
       "      <td>NaN</td>\n",
       "    </tr>\n",
       "    <tr>\n",
       "      <th>4</th>\n",
       "      <td>71</td>\n",
       "      <td>Ryan Bates</td>\n",
       "      <td>23</td>\n",
       "      <td>OL</td>\n",
       "      <td>16</td>\n",
       "      <td>0</td>\n",
       "      <td>302</td>\n",
       "      <td>6-4</td>\n",
       "      <td>Penn St.</td>\n",
       "      <td>2/14/1997</td>\n",
       "      <td>1</td>\n",
       "      <td>1</td>\n",
       "      <td></td>\n",
       "      <td>$675,000</td>\n",
       "      <td>buf</td>\n",
       "      <td>13-3-0</td>\n",
       "      <td>NaN</td>\n",
       "    </tr>\n",
       "  </tbody>\n",
       "</table>\n",
       "</div>"
      ],
      "text/plain": [
       "  No.        Player  Age Pos   G  GS   Wt    Ht      College/Univ  BirthDate  \\\n",
       "0  97  Mario Addison  33  DE  15   7  260   6-3              Troy   9/6/1987   \n",
       "1  17     Josh Allen  24  QB  16  16  237   6-5           Wyoming  5/21/1996   \n",
       "2   5   Matt Barkley  30  QB   5   0  234   6-2               USC   9/8/1990   \n",
       "3   2     Tyler Bass  23   K  16   0  183  5-10  Georgia Southern  2/14/1997   \n",
       "4  71     Ryan Bates  23  OL  16   0  302   6-4          Penn St.  2/14/1997   \n",
       "\n",
       "    Yrs  AV                           Drafted (tm/rnd/yr)      Salary Team  \\\n",
       "0     9   4                                                $5,250,000  buf   \n",
       "1     2  18         Buffalo Bills / 1st / 7th pick / 2018    $750,000  buf   \n",
       "2     7   1  Philadelphia Eagles / 4th / 98th pick / 2013  $1,500,000  buf   \n",
       "3  Rook   3       Buffalo Bills / 6th / 188th pick / 2020    $610,000  buf   \n",
       "4     1   1                                                  $675,000  buf   \n",
       "\n",
       "   Record Player  \n",
       "0  13-3-0    NaN  \n",
       "1  13-3-0    NaN  \n",
       "2  13-3-0    NaN  \n",
       "3  13-3-0    NaN  \n",
       "4  13-3-0    NaN  "
      ]
     },
     "execution_count": 4,
     "metadata": {},
     "output_type": "execute_result"
    }
   ],
   "source": [
    "df.head()"
   ]
  },
  {
   "cell_type": "code",
   "execution_count": 5,
   "id": "4f7dd435",
   "metadata": {},
   "outputs": [],
   "source": [
    "# Make a function to convert elements to numeric.\n",
    "\n",
    "def make_num_exception(val):\n",
    "    \"\"\"\n",
    "    Convert elements to numeric.\n",
    "    If NOT able to convert, return None but print the element value.\n",
    "    Can then go back and change as needed.\n",
    "    \"\"\"\n",
    "    try:\n",
    "        return float(val)\n",
    "    except ValueError:\n",
    "        print(\"Error found with entry: \" + val)\n",
    "        return None\n",
    "    \n",
    "def series_to_num(series):\n",
    "    \"\"\"\n",
    "    Convert pd series to numeric from string.\n",
    "    \"\"\"\n",
    "    series = series.replace(r'^\\s*$', np.nan, regex=True)\n",
    "    series = series.apply(make_num_exception)\n",
    "    return series"
   ]
  },
  {
   "cell_type": "code",
   "execution_count": 6,
   "id": "3c249e8b",
   "metadata": {},
   "outputs": [],
   "source": [
    "# Columns to numeric.\n",
    "df[\"Age\"] = series_to_num(df[\"Age\"])\n",
    "\n",
    "df[\"G\"] = series_to_num(df[\"G\"])\n",
    "\n",
    "df[\"GS\"] = series_to_num(df[\"GS\"])\n",
    "\n",
    "df[\"Wt\"] = series_to_num(df[\"Wt\"])\n",
    "\n",
    "df[\"AV\"] = series_to_num(df[\"AV\"])\n",
    "\n",
    "df[\"Salary\"] = df[\"Salary\"].map(lambda x: x.replace(\"$\",\"\").replace(\",\", \"\"))\n",
    "df[\"Salary\"] = series_to_num(df[\"Salary\"])"
   ]
  },
  {
   "cell_type": "code",
   "execution_count": 7,
   "id": "ec42e7ef",
   "metadata": {},
   "outputs": [],
   "source": [
    "def ht_conversion(string):\n",
    "    \"\"\"\n",
    "    Convert heights given as \"ft-in\" to numeric inches.\n",
    "    \"\"\"\n",
    "    if \"-\" not in string:\n",
    "        return None\n",
    "    ht_lst = string.split(\"-\")\n",
    "    return (float(ht_lst[0]) * 12) + float(ht_lst[1])\n"
   ]
  },
  {
   "cell_type": "code",
   "execution_count": 8,
   "id": "0e60cdee",
   "metadata": {},
   "outputs": [],
   "source": [
    "# Height to inches (numeric).\n",
    "df[\"Ht\"] = df[\"Ht\"].apply(lambda x: ht_conversion(x))"
   ]
  },
  {
   "cell_type": "code",
   "execution_count": 9,
   "id": "2bee22e0",
   "metadata": {},
   "outputs": [],
   "source": [
    "# Record to win percentage.\n",
    "df[\"Record\"] = df[\"Record\"].apply(lambda x: float(x.split(\"-\")[0])/16)"
   ]
  },
  {
   "cell_type": "code",
   "execution_count": 10,
   "id": "a5d3dcd8",
   "metadata": {},
   "outputs": [],
   "source": [
    "# Convert years in the NFL to numeric (Rookies = 0).\n",
    "\n",
    "df[\"Yrs\"] = df[\"Yrs\"].apply(lambda x: 0 if x == \"Rook\" else x)\n",
    "df[\"Yrs\"] = series_to_num(df[\"Yrs\"])"
   ]
  },
  {
   "cell_type": "code",
   "execution_count": 11,
   "id": "708fcc25",
   "metadata": {},
   "outputs": [],
   "source": [
    "# Combine some position descriptions.\n",
    "\n",
    "df.replace({\"Pos\": {\"LS,TE\":\"TE\", \"QB/TE\":\"TE\", \"WR/CB\":\"WR\", \"WR/RB\":\"WR\"}}, inplace=True)"
   ]
  },
  {
   "cell_type": "code",
   "execution_count": 12,
   "id": "9e3908f6",
   "metadata": {},
   "outputs": [],
   "source": [
    "# Create general positions (offense, defense, special teams).\n",
    "dct_gen_pos = {\n",
    "    \"offense\": [\"C\", \"RB\", \"FB\", \"G\", \"LG\", \"OT\", \"LT\", \"TE\", \"QB\", \"WR\", \"HB\", \"OL\", \n",
    "                \"T\", \"OG\"],\n",
    "    \"defense\": [\"CB\", \"DE\", \"DT\", \"LB\", \"ILB\", \"MLB\", \"NT\", \"OLB\", \"S\", \"FS\", \"SS\", \"DL\", \n",
    "                \"DB\", \"RILB\", \"LILB\", \"LOLB\", \"EDGE\"],\n",
    "    \"spec_t\": [\"K\", \"KR\", \"LS\", \"P\"]\n",
    "}\n",
    "\n",
    "\n",
    "df[\"general_pos\"] = np.nan\n",
    "\n",
    "for k,v in dct_gen_pos.items():\n",
    "    df.loc[df[\"Pos\"].isin(v), \"general_pos\"] = k"
   ]
  },
  {
   "cell_type": "code",
   "execution_count": 13,
   "id": "5e4e1fcc",
   "metadata": {},
   "outputs": [],
   "source": [
    "# Create positional groups.\n",
    "\n",
    "dct_pos_group = {\n",
    "    # Defense\n",
    "    \"def_line\": [\"NT\", \"DT\", \"DE\", \"DL\"],\n",
    "    \"linebackers\": [\"ILB\", \"MLB\", \"RILB\", \"LILB\", \"LOLB\", \"LB\", \"EDGE\", \"OLB\"],\n",
    "    \"secondary\": [\"CB\", \"S\", \"FS\", \"SS\", \"DB\"],\n",
    "    # Offense\n",
    "    \"off_line\": [\"LG\", \"LT\", \"C\", \"T\", \"G\", \"OT\", \"OL\", \"OG\"],\n",
    "    \"wr_te\": [\"WR\", \"TE\"],\n",
    "    \"QB\": [\"QB\"],\n",
    "    \"rb_fb\": [\"RB\", \"FB\", \"HB\"],\n",
    "    # Special Teams\n",
    "    \"spec_t\": [\"K\", \"KR\", \"LS\", \"P\"]\n",
    "}\n",
    "\n",
    "df[\"pos_group\"] = np.nan\n",
    "\n",
    "for k,v in dct_pos_group.items():\n",
    "    df.loc[df[\"Pos\"].isin(v), \"pos_group\"] = k"
   ]
  },
  {
   "cell_type": "code",
   "execution_count": 14,
   "id": "42714c04",
   "metadata": {},
   "outputs": [],
   "source": [
    "# Create categorical data for starter, irregular-starter, non-starter\n",
    "\n",
    "conditions = [\n",
    "    (df[\"GS\"] == 0), \n",
    "    (df[\"GS\"] > 0) & (df[\"GS\"] < 10),\n",
    "    (df[\"GS\"] >= 10) \n",
    "]\n",
    "\n",
    "values = [\"non-starter\", \"irreg_starter\", \"starter\"]\n",
    "\n",
    "df[\"starter\"] = np.select(conditions, values)"
   ]
  },
  {
   "cell_type": "code",
   "execution_count": 15,
   "id": "80297b1e",
   "metadata": {},
   "outputs": [],
   "source": [
    "# Calculate BMI.\n",
    "\n",
    "df[\"BMI\"] = round((df[\"Wt\"] / (df[\"Ht\"] **2)) *703, 1)"
   ]
  },
  {
   "cell_type": "code",
   "execution_count": 16,
   "id": "3298a2cf",
   "metadata": {},
   "outputs": [],
   "source": [
    "# Calculate where players stand in terms of height/weight compared to those in the same position.\n",
    "\n",
    "df[\"ht_pos_mean\"] = df.groupby([\"Pos\"])[\"Ht\"].transform('mean')\n",
    "df[\"ht_pos\"] = np.where(df[\"ht_pos_mean\"] < df[\"Ht\"], \"Under\", \"Equal_Above\")\n",
    "\n",
    "df[\"wt_pos_mean\"] = df.groupby([\"Pos\"])[\"Wt\"].transform('mean')\n",
    "df[\"wt_pos\"] = np.where(df[\"wt_pos_mean\"] < df[\"Wt\"], \"Under\", \"Equal_Above\")"
   ]
  },
  {
   "cell_type": "code",
   "execution_count": 17,
   "id": "91235342",
   "metadata": {},
   "outputs": [],
   "source": [
    "# Drop unwanted columns and rename as needed.\n",
    "df.columns = [column.strip() for column in df.columns]\n",
    "\n",
    "df = df.drop(columns=[\"ht_pos_mean\", \"wt_pos_mean\", \"No.\", \"BirthDate\", \"Drafted (tm/rnd/yr)\", \"Player\"])\n",
    "\n",
    "df = df.rename(columns={\"College/Univ\":\"College\"})"
   ]
  },
  {
   "cell_type": "code",
   "execution_count": 18,
   "id": "8b95dad9",
   "metadata": {},
   "outputs": [],
   "source": [
    "# Have enough folks that I'm willing to drop those missing some variables for this analysis.\n",
    "\n",
    "df.dropna(inplace=True)"
   ]
  },
  {
   "cell_type": "code",
   "execution_count": 19,
   "id": "507a99a1",
   "metadata": {},
   "outputs": [
    {
     "name": "stdout",
     "output_type": "stream",
     "text": [
      "<class 'pandas.core.frame.DataFrame'>\n",
      "Int64Index: 1935 entries, 0 to 2292\n",
      "Data columns (total 18 columns):\n",
      " #   Column       Non-Null Count  Dtype  \n",
      "---  ------       --------------  -----  \n",
      " 0   Age          1935 non-null   float64\n",
      " 1   Pos          1935 non-null   object \n",
      " 2   G            1935 non-null   float64\n",
      " 3   GS           1935 non-null   float64\n",
      " 4   Wt           1935 non-null   float64\n",
      " 5   Ht           1935 non-null   float64\n",
      " 6   College      1935 non-null   object \n",
      " 7   Yrs          1935 non-null   float64\n",
      " 8   AV           1935 non-null   float64\n",
      " 9   Salary       1935 non-null   float64\n",
      " 10  Team         1935 non-null   object \n",
      " 11  Record       1935 non-null   float64\n",
      " 12  general_pos  1935 non-null   object \n",
      " 13  pos_group    1935 non-null   object \n",
      " 14  starter      1935 non-null   object \n",
      " 15  BMI          1935 non-null   float64\n",
      " 16  ht_pos       1935 non-null   object \n",
      " 17  wt_pos       1935 non-null   object \n",
      "dtypes: float64(10), object(8)\n",
      "memory usage: 287.2+ KB\n"
     ]
    }
   ],
   "source": [
    "df.info()"
   ]
  },
  {
   "cell_type": "code",
   "execution_count": 20,
   "id": "b66c6bd4",
   "metadata": {},
   "outputs": [],
   "source": [
    "with open('./data/cleaned_dataframe.pickle', 'wb') as to_write:\n",
    "    pickle.dump(df, to_write)"
   ]
  },
  {
   "cell_type": "code",
   "execution_count": null,
   "id": "0a5e6abc",
   "metadata": {},
   "outputs": [],
   "source": []
  }
 ],
 "metadata": {
  "kernelspec": {
   "display_name": "Python 3",
   "language": "python",
   "name": "python3"
  },
  "language_info": {
   "codemirror_mode": {
    "name": "ipython",
    "version": 3
   },
   "file_extension": ".py",
   "mimetype": "text/x-python",
   "name": "python",
   "nbconvert_exporter": "python",
   "pygments_lexer": "ipython3",
   "version": "3.8.11"
  }
 },
 "nbformat": 4,
 "nbformat_minor": 5
}
